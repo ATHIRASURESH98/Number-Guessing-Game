{
 "cells": [
  {
   "cell_type": "code",
   "execution_count": null,
   "id": "f33c91e1",
   "metadata": {},
   "outputs": [],
   "source": [
    "from tkinter import *\n",
    "window=Tk()#TO CREATE THE BASIC WINDOW\n",
    "window.geometry(\"800x900\")\n",
    "\n",
    "window.title(\"NUMBER GUESSING GAME\")\n",
    "\n",
    "#TO CREATE THE FIRST LABEL \"!!!GUESS YOUR NUMBER!!!\"\n",
    "l1=Label(window,text=\"!!!GUESS YOUR NUMBER!!!\",fg=\"green\",bg=\"#FFFF63\",font=(\"bold\",30))\n",
    "l1.grid(column=1,row=0)\n",
    "#Labe2 for Enter the name\n",
    "l2=Label(window,text=\"Enter your name:\",fg=\"#0000FF\",bg=\"#FFFF63\",font=(\"bold\",20))\n",
    "l2.grid(column=0,row=1)\n",
    "#ENTRY BUTTOM TO ENTER THE NAME\n",
    "e1=Entry(window,font=(\"normal\",20),width=20,bd=5)\n",
    "e1.grid(column=1,row=1)\n",
    "#For enter button\n",
    "B1=Button(window,text=\"Enter\")\n",
    "B1.grid(column=2,row=1)\n",
    "#Label3 for select the mode\n",
    "l3=Label(window,text=\"Select the mode:\",fg=\"#0000FF\",bg=\"#FFFF63\",font=(\"bold\",20))\n",
    "l3.grid(column=0,row=2)\n",
    "#Radio buttons to select the mode\n",
    "R1=Radiobutton(window,text=\"Easy\")\n",
    "R1.grid(column=0,row=3)\n",
    "R2=Radiobutton(window,text=\"Medium\")\n",
    "R2.grid(column=1,row=3)\n",
    "R3=Radiobutton(window,text=\"Hard\")\n",
    "R3.grid(column=2,row=3)\n",
    "#A start button to start the game\n",
    "B2=Button(window,text=\"START THE GAME\",font=(\"bold\",10),bd=10,bg=\"green\")\n",
    "B2.grid(column=1,row=6)\n",
    "#Label4 for Enter the number\n",
    "l4=Label(window,text=\"Enter the number:\",fg=\"#0000FF\",bg=\"#FFFF63\",font=(\"bold\",20))\n",
    "l4.grid(column=0,row=8)\n",
    "#ENTRY BUTTOM TO ENTER THE NUMBER\n",
    "e2=Entry(window,font=(\"normal\",20),width=20,bd=5)\n",
    "e2.grid(column=1,row=8)\n",
    "#Button for guessing the number\n",
    "B2=Button(window,text=\"GUESS\",bg=\"green\",bd=5)\n",
    "B2.grid(column=3,row=8)\n",
    "#Label5 for showing the result\n",
    "l5=Label(window,text=\"#game status\",fg=\"#0000FF\",bg=\"#FFFF63\",font=(\"bold\",20))\n",
    "l5.grid(column=1,row=9)\n",
    "#A exit button to start the game\n",
    "B2=Button(window,text=\"EXIT\",font=(\"bold\",10),bd=10,bg=\"red\")\n",
    "B2.grid(column=1,row=10)\n",
    "window.config(bg=\"#FFFF63\")#TO ADD BACKGROUND COLOR TO THE WINDOW\n",
    "window.mainloop()\n"
   ]
  },
  {
   "cell_type": "code",
   "execution_count": null,
   "id": "0503d92c",
   "metadata": {},
   "outputs": [],
   "source": []
  }
 ],
 "metadata": {
  "kernelspec": {
   "display_name": "Python 3 (ipykernel)",
   "language": "python",
   "name": "python3"
  },
  "language_info": {
   "codemirror_mode": {
    "name": "ipython",
    "version": 3
   },
   "file_extension": ".py",
   "mimetype": "text/x-python",
   "name": "python",
   "nbconvert_exporter": "python",
   "pygments_lexer": "ipython3",
   "version": "3.9.12"
  }
 },
 "nbformat": 4,
 "nbformat_minor": 5
}
